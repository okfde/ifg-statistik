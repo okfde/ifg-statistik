{
 "cells": [
  {
   "cell_type": "code",
   "execution_count": 1,
   "metadata": {
    "collapsed": true
   },
   "outputs": [],
   "source": [
    "import glob\n",
    "from datetime import date\n",
    "\n",
    "import pandas as pd\n",
    "\n",
    "import matplotlib\n",
    "import matplotlib.pyplot as plt\n",
    "%matplotlib inline\n",
    "matplotlib.rcParams['svg.fonttype'] = 'none'\n"
   ]
  },
  {
   "cell_type": "code",
   "execution_count": 2,
   "metadata": {
    "collapsed": false
   },
   "outputs": [
    {
     "data": {
      "text/html": [
       "<div>\n",
       "<table border=\"1\" class=\"dataframe\">\n",
       "  <thead>\n",
       "    <tr style=\"text-align: right;\">\n",
       "      <th></th>\n",
       "      <th>Abhilfe</th>\n",
       "      <th>Abweisung</th>\n",
       "      <th>Antrag zurückgenommen</th>\n",
       "      <th>Anträge in Bearbeitung zum Jahresbeginn</th>\n",
       "      <th>Auslagen</th>\n",
       "      <th>Eingang Erstanträge</th>\n",
       "      <th>Eingang Klagen</th>\n",
       "      <th>Eingang Klagen</th>\n",
       "      <th>Eingang Widersprüche</th>\n",
       "      <th>Eingang Widersprüche</th>\n",
       "      <th>...</th>\n",
       "      <th>W- Gebühren erhoben (&gt; 30 )</th>\n",
       "      <th>Widerspruch in Bearbeitung</th>\n",
       "      <th>Widersprüche in Bearbeitung zum Jahresbeginn</th>\n",
       "      <th>Zurückweisung</th>\n",
       "      <th>anhängig</th>\n",
       "      <th>anhängige Klagen zum Jahresbeginn</th>\n",
       "      <th>jahr</th>\n",
       "      <th>sonstige Erledigung</th>\n",
       "      <th>sonstige Erledigung.1</th>\n",
       "      <th>sonstige Erledigung.2</th>\n",
       "    </tr>\n",
       "  </thead>\n",
       "  <tbody>\n",
       "    <tr>\n",
       "      <th>0</th>\n",
       "      <td>0</td>\n",
       "      <td>0</td>\n",
       "      <td>2</td>\n",
       "      <td>NaN</td>\n",
       "      <td>1</td>\n",
       "      <td>38</td>\n",
       "      <td>1</td>\n",
       "      <td>NaN</td>\n",
       "      <td>4</td>\n",
       "      <td>NaN</td>\n",
       "      <td>...</td>\n",
       "      <td>0</td>\n",
       "      <td>0</td>\n",
       "      <td>NaN</td>\n",
       "      <td>3</td>\n",
       "      <td>1</td>\n",
       "      <td>NaN</td>\n",
       "      <td>2006-01-01</td>\n",
       "      <td>NaN</td>\n",
       "      <td>NaN</td>\n",
       "      <td>NaN</td>\n",
       "    </tr>\n",
       "    <tr>\n",
       "      <th>1</th>\n",
       "      <td>0</td>\n",
       "      <td>0</td>\n",
       "      <td>0</td>\n",
       "      <td>NaN</td>\n",
       "      <td>0</td>\n",
       "      <td>13</td>\n",
       "      <td>0</td>\n",
       "      <td>NaN</td>\n",
       "      <td>0</td>\n",
       "      <td>NaN</td>\n",
       "      <td>...</td>\n",
       "      <td>0</td>\n",
       "      <td>0</td>\n",
       "      <td>NaN</td>\n",
       "      <td>0</td>\n",
       "      <td>0</td>\n",
       "      <td>NaN</td>\n",
       "      <td>2006-01-01</td>\n",
       "      <td>NaN</td>\n",
       "      <td>NaN</td>\n",
       "      <td>NaN</td>\n",
       "    </tr>\n",
       "    <tr>\n",
       "      <th>3</th>\n",
       "      <td>0</td>\n",
       "      <td>0</td>\n",
       "      <td>0</td>\n",
       "      <td>NaN</td>\n",
       "      <td>3</td>\n",
       "      <td>18</td>\n",
       "      <td>0</td>\n",
       "      <td>NaN</td>\n",
       "      <td>3</td>\n",
       "      <td>NaN</td>\n",
       "      <td>...</td>\n",
       "      <td>0</td>\n",
       "      <td>1</td>\n",
       "      <td>NaN</td>\n",
       "      <td>0</td>\n",
       "      <td>0</td>\n",
       "      <td>NaN</td>\n",
       "      <td>2006-01-01</td>\n",
       "      <td>NaN</td>\n",
       "      <td>NaN</td>\n",
       "      <td>NaN</td>\n",
       "    </tr>\n",
       "    <tr>\n",
       "      <th>4</th>\n",
       "      <td>0</td>\n",
       "      <td>0</td>\n",
       "      <td>4</td>\n",
       "      <td>NaN</td>\n",
       "      <td>1</td>\n",
       "      <td>117</td>\n",
       "      <td>0</td>\n",
       "      <td>NaN</td>\n",
       "      <td>1</td>\n",
       "      <td>NaN</td>\n",
       "      <td>...</td>\n",
       "      <td>0</td>\n",
       "      <td>0</td>\n",
       "      <td>NaN</td>\n",
       "      <td>0</td>\n",
       "      <td>0</td>\n",
       "      <td>NaN</td>\n",
       "      <td>2006-01-01</td>\n",
       "      <td>NaN</td>\n",
       "      <td>NaN</td>\n",
       "      <td>NaN</td>\n",
       "    </tr>\n",
       "    <tr>\n",
       "      <th>6</th>\n",
       "      <td>4</td>\n",
       "      <td>0</td>\n",
       "      <td>7</td>\n",
       "      <td>NaN</td>\n",
       "      <td>16</td>\n",
       "      <td>131</td>\n",
       "      <td>3</td>\n",
       "      <td>NaN</td>\n",
       "      <td>16</td>\n",
       "      <td>NaN</td>\n",
       "      <td>...</td>\n",
       "      <td>0</td>\n",
       "      <td>2</td>\n",
       "      <td>NaN</td>\n",
       "      <td>8</td>\n",
       "      <td>3</td>\n",
       "      <td>NaN</td>\n",
       "      <td>2006-01-01</td>\n",
       "      <td>NaN</td>\n",
       "      <td>NaN</td>\n",
       "      <td>NaN</td>\n",
       "    </tr>\n",
       "  </tbody>\n",
       "</table>\n",
       "<p>5 rows × 48 columns</p>\n",
       "</div>"
      ],
      "text/plain": [
       "   Abhilfe  Abweisung  Antrag zurückgenommen  \\\n",
       "0        0          0                      2   \n",
       "1        0          0                      0   \n",
       "3        0          0                      0   \n",
       "4        0          0                      4   \n",
       "6        4          0                      7   \n",
       "\n",
       "   Anträge in Bearbeitung zum Jahresbeginn  Auslagen  Eingang Erstanträge  \\\n",
       "0                                      NaN         1                   38   \n",
       "1                                      NaN         0                   13   \n",
       "3                                      NaN         3                   18   \n",
       "4                                      NaN         1                  117   \n",
       "6                                      NaN        16                  131   \n",
       "\n",
       "   Eingang Klagen  Eingang Klagen   Eingang Widersprüche  \\\n",
       "0               1              NaN                     4   \n",
       "1               0              NaN                     0   \n",
       "3               0              NaN                     3   \n",
       "4               0              NaN                     1   \n",
       "6               3              NaN                    16   \n",
       "\n",
       "   Eingang Widersprüche           ...            W- Gebühren erhoben (> 30 )  \\\n",
       "0                    NaN          ...                                       0   \n",
       "1                    NaN          ...                                       0   \n",
       "3                    NaN          ...                                       0   \n",
       "4                    NaN          ...                                       0   \n",
       "6                    NaN          ...                                       0   \n",
       "\n",
       "   Widerspruch in Bearbeitung  Widersprüche in Bearbeitung zum Jahresbeginn  \\\n",
       "0                           0                                           NaN   \n",
       "1                           0                                           NaN   \n",
       "3                           1                                           NaN   \n",
       "4                           0                                           NaN   \n",
       "6                           2                                           NaN   \n",
       "\n",
       "  Zurückweisung  anhängig  anhängige Klagen zum Jahresbeginn       jahr  \\\n",
       "0             3         1                                NaN 2006-01-01   \n",
       "1             0         0                                NaN 2006-01-01   \n",
       "3             0         0                                NaN 2006-01-01   \n",
       "4             0         0                                NaN 2006-01-01   \n",
       "6             8         3                                NaN 2006-01-01   \n",
       "\n",
       "   sonstige Erledigung  sonstige Erledigung.1  sonstige Erledigung.2  \n",
       "0                  NaN                    NaN                    NaN  \n",
       "1                  NaN                    NaN                    NaN  \n",
       "3                  NaN                    NaN                    NaN  \n",
       "4                  NaN                    NaN                    NaN  \n",
       "6                  NaN                    NaN                    NaN  \n",
       "\n",
       "[5 rows x 48 columns]"
      ]
     },
     "execution_count": 2,
     "metadata": {},
     "output_type": "execute_result"
    }
   ],
   "source": [
    "ministry_mapping = {\n",
    "    'BBk': 'BBank',\n",
    "    'BK Amt': 'BK',\n",
    "    'BMELV': 'BMEL',\n",
    "    'BMELVV': 'BMEL',\n",
    "    'BMVBS': 'BMVI',\n",
    "    'BPrA': 'BPräsA',\n",
    "    'BMJ': 'BMJV',\n",
    "    'BMJVV': 'BMJV',\n",
    "    'BMVI': 'BMVBS',\n",
    "    'BMU': 'BMUB',\n",
    "}\n",
    "\n",
    "def load_dataframe(filename):\n",
    "    year = int(filename.split('_')[-1].split('.')[0])\n",
    "    df = pd.read_csv(filename).fillna(0)\n",
    "    df = df[~df['Ressort'].str.contains('Gesamt')]\n",
    "    df['jahr'] = date(year, 1, 1)\n",
    "    df['jahr'] = pd.to_datetime(df['jahr'])\n",
    "    df['GB'] = df['Ressort'].str.contains('GB')\n",
    "    df['Ressort'] = df['Ressort'].str.replace(' GB', '')\n",
    "    df['Ressort'] = df['Ressort'].str.replace('*', '')\n",
    "    for k, v in ministry_mapping.items():\n",
    "        df['Ressort'] = df['Ressort'].str.replace('^' + k + '$', v)\n",
    "    return df\n",
    "\n",
    "filenames = glob.glob('data/ifg_statistik_*.csv')\n",
    "df = pd.concat([load_dataframe(filename) for filename in filenames])\n",
    "df.to_csv('ifg_statistik.csv')\n",
    "df.head()"
   ]
  },
  {
   "cell_type": "markdown",
   "metadata": {},
   "source": [
    "## Eingang Erstanträge über die Jahre"
   ]
  },
  {
   "cell_type": "code",
   "execution_count": 3,
   "metadata": {
    "collapsed": false
   },
   "outputs": [
    {
     "data": {
      "text/plain": [
       "(0, 10000.0)"
      ]
     },
     "execution_count": 3,
     "metadata": {},
     "output_type": "execute_result"
    },
    {
     "data": {
      "image/png": "[encoded data removed]",
      "text/plain": [
       "<matplotlib.figure.Figure at 0x104c2ed68>"
      ]
     },
     "metadata": {},
     "output_type": "display_data"
    }
   ],
   "source": [
    "df.groupby('jahr')['Eingang Erstanträge'].sum().plot()\n",
    "plt.ylim(0)"
   ]
  },
  {
   "cell_type": "code",
   "execution_count": 4,
   "metadata": {
    "collapsed": false
   },
   "outputs": [
    {
     "name": "stderr",
     "output_type": "stream",
     "text": [
      "/Users/sw/.virtualenvs/notebook3/lib/python3.5/site-packages/pandas/core/index.py:4281: FutureWarning: elementwise comparison failed; returning scalar instead, but in the future will perform elementwise comparison\n",
      "  return np.sum(name == np.asarray(self.names)) > 1\n"
     ]
    },
    {
     "data": {
      "image/png": "[encoded data removed]",
      "text/plain": [
       "<matplotlib.figure.Figure at 0x104c2ee10>"
      ]
     },
     "metadata": {},
     "output_type": "display_data"
    }
   ],
   "source": [
    "ax = df.groupby([df.jahr.dt.year, 'Ressort'])['Eingang Erstanträge'].sum().unstack().plot(kind='bar', stacked=True)\n",
    "ax.legend().set_visible(False)"
   ]
  },
  {
   "cell_type": "code",
   "execution_count": 6,
   "metadata": {
    "collapsed": false
   },
   "outputs": [
    {
     "data": {
      "text/html": [
       "<div>\n",
       "<table border=\"1\" class=\"dataframe\">\n",
       "  <thead>\n",
       "    <tr style=\"text-align: right;\">\n",
       "      <th></th>\n",
       "      <th>name</th>\n",
       "      <th>year</th>\n",
       "      <th>count</th>\n",
       "      <th>transparency</th>\n",
       "    </tr>\n",
       "  </thead>\n",
       "  <tbody>\n",
       "    <tr>\n",
       "      <th>0</th>\n",
       "      <td>AA</td>\n",
       "      <td>2006</td>\n",
       "      <td>131</td>\n",
       "      <td>62</td>\n",
       "    </tr>\n",
       "    <tr>\n",
       "      <th>1</th>\n",
       "      <td>AA</td>\n",
       "      <td>2007</td>\n",
       "      <td>88</td>\n",
       "      <td>64</td>\n",
       "    </tr>\n",
       "    <tr>\n",
       "      <th>2</th>\n",
       "      <td>AA</td>\n",
       "      <td>2008</td>\n",
       "      <td>132</td>\n",
       "      <td>71</td>\n",
       "    </tr>\n",
       "    <tr>\n",
       "      <th>3</th>\n",
       "      <td>AA</td>\n",
       "      <td>2009</td>\n",
       "      <td>139</td>\n",
       "      <td>71</td>\n",
       "    </tr>\n",
       "    <tr>\n",
       "      <th>4</th>\n",
       "      <td>AA</td>\n",
       "      <td>2010</td>\n",
       "      <td>158</td>\n",
       "      <td>65</td>\n",
       "    </tr>\n",
       "  </tbody>\n",
       "</table>\n",
       "</div>"
      ],
      "text/plain": [
       "  name  year  count  transparency\n",
       "0   AA  2006    131            62\n",
       "1   AA  2007     88            64\n",
       "2   AA  2008    132            71\n",
       "3   AA  2009    139            71\n",
       "4   AA  2010    158            65"
      ]
     },
     "execution_count": 6,
     "metadata": {},
     "output_type": "execute_result"
    }
   ],
   "source": [
    "def transparenz_prozent(g):\n",
    "    return (g['Informationszugang gewährt'].sum() +\n",
    "            g['Informationszugang teilweise gewährt'].sum()) / g['Eingang Erstanträge'].sum() * 100\n",
    "\n",
    "out_group = df.groupby(['Ressort', 'jahr'])[['Eingang Erstanträge', 'Informationszugang gewährt', 'Informationszugang teilweise gewährt']].sum()\n",
    "\n",
    "out_group['transparency'] = out_group[['Informationszugang gewährt', 'Informationszugang teilweise gewährt']].sum(1) / out_group['Eingang Erstanträge'] * 100\n",
    "out_group['transparency'] = out_group['transparency'].round()\n",
    "out_group = out_group.reset_index()\n",
    "out_group = out_group.rename(columns={'Ressort': 'name', 'jahr': 'year', 'Eingang Erstanträge': 'count'})\n",
    "out_group = out_group.drop(['Informationszugang gewährt', 'Informationszugang teilweise gewährt'], axis=1)\n",
    "out_group['year'] = pd.to_datetime(out_group['year']).dt.year\n",
    "# out_group.to_csv('data.csv', index=False)\n",
    "out_group.head()"
   ]
  }
 ],
 "metadata": {
  "kernelspec": {
   "display_name": "Python 3",
   "language": "python",
   "name": "python3"
  },
  "language_info": {
   "codemirror_mode": {
    "name": "ipython",
    "version": 3
   },
   "file_extension": ".py",
   "mimetype": "text/x-python",
   "name": "python",
   "nbconvert_exporter": "python",
   "pygments_lexer": "ipython3",
   "version": "3.5.0"
  }
 },
 "nbformat": 4,
 "nbformat_minor": 0
}
